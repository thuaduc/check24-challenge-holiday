{
 "cells": [
  {
   "cell_type": "code",
   "execution_count": 1,
   "metadata": {
    "ExecuteTime": {
     "end_time": "2023-05-29T15:25:25.208559Z",
     "start_time": "2023-05-29T15:11:18.400669Z"
    },
    "collapsed": false
   },
   "outputs": [],
   "source": [
    "#!/usr/bin/env python3.11\n",
    "\n",
    "import pandas as pd\n",
    "\n",
    "dataframe = pd.read_csv('offers_big.csv')\n",
    "columns_to_delete = [\"inbounddepartureairport\", \"outboundarrivalairport\", \"inboundarrivalairport\",\"roomtype\", \"mealtype\", \"oceanview\"]\n",
    "\n",
    "roomtype = {\n",
    "    \"ACCORDINGDESCRIPTION\": \"A\",\n",
    "    \"APARTMENT\": \"B\",\n",
    "    \"BUNGALOW\": \"C\",\n",
    "    \"DELUXE\": \"D\",\n",
    "    \"DOUBLE\": \"E\",\n",
    "    \"ECONOMY\": \"F\",\n",
    "    \"FAMILY\": \"G\",\n",
    "    \"FOURBEDROOM\": \"H\",\n",
    "    \"HOLIDAYHOUSE\": \"I\",\n",
    "    \"JUNIORSUITE\": \"K\",\n",
    "    \"MULTISHARE\": \"L\",\n",
    "    \"SINGLE\": \"M\",\n",
    "    \"STUDIO\": \"N\",\n",
    "    \"SUITE\": \"O\",\n",
    "    \"SUPERIOR\": \"P\",\n",
    "    \"TRIPLE\": \"Q\",\n",
    "    \"TWINROOM\": \"R\",\n",
    "    \"VILLA\": \"S\"\n",
    "}\n",
    "\n",
    "mealtype = {\n",
    "    \"ACCORDINGDESCRIPTION\": \"A\",\n",
    "    \"ALLINCLUSIVE\": \"B\",\n",
    "    \"ALLINCLUSIVEPLUS\": \"C\",\n",
    "    \"BREAKFAST\": \"D\",\n",
    "    \"FULLBOARD\": \"E\",\n",
    "    \"FULLBOARDPLUS\": \"F\",\n",
    "    \"HALFBOARD\": \"G\",\n",
    "    \"HALFBOARDPLUS\": \"H\",\n",
    "    \"NONE\": \"I\"\n",
    "}\n",
    "\n",
    "oceanview = {\n",
    "    True: \"T\",\n",
    "    False : \"F\"\n",
    "}\n",
    "\n",
    "dataframe[\"mealtype\"] = dataframe[\"mealtype\"].map(mealtype)\n",
    "dataframe[\"roomtype\"] = dataframe[\"roomtype\"].map(roomtype)\n",
    "dataframe[\"oceanview\"] = dataframe[\"oceanview\"].map(oceanview)\n",
    "\n",
    "dataframe_merged = dataframe[\"mealtype\"]+dataframe[\"roomtype\"]+dataframe[\"oceanview\"]\n",
    "dataframe_merged.rename(\"MRO\", inplace=True)\n",
    "\n",
    "dataframe[\"mro\"] = dataframe_merged\n",
    "\n",
    "dataframe.drop(columns=columns_to_delete, inplace=True)\n",
    "dataframe.to_csv('offers.csv', index=False)\n"
   ]
  }
 ],
 "metadata": {
  "kernelspec": {
   "display_name": "Python 3 (ipykernel)",
   "language": "python",
   "name": "python3"
  },
  "language_info": {
   "codemirror_mode": {
    "name": "ipython",
    "version": 3
   },
   "file_extension": ".py",
   "mimetype": "text/x-python",
   "name": "python",
   "nbconvert_exporter": "python",
   "pygments_lexer": "ipython3",
   "version": "3.11.3"
  }
 },
 "nbformat": 4,
 "nbformat_minor": 5
}
